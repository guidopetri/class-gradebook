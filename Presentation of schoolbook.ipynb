{
 "cells": [
  {
   "cell_type": "code",
   "execution_count": 1,
   "metadata": {},
   "outputs": [
    {
     "name": "stdout",
     "output_type": "stream",
     "text": [
      "\n",
      "Class stats:\n",
      "                     Value\n",
      "mean               49.563\n",
      "median              49.15\n",
      "min                 18.38\n",
      "max                 81.77\n",
      "classclown     Bill Rogan\n",
      "valedictorian  Pete Bauer\n"
     ]
    }
   ],
   "source": [
    "#!/usr/bin/env python\n",
    "# -*- coding: UTF-8 -*-\n",
    "#python 3.6.4\n",
    "\n",
    "\"\"\"Student Gradebook Application – Keep track of students (with a student class that has their name, average, and scores) in a class and their grades. Assign their scores on tests and assignments to the students and figure out their average and grade for the class. For added complexity put the students on a bell curve.\"\"\"\n",
    "\n",
    "import random\n",
    "import pandas as pd\n",
    "import numpy as np\n",
    "import matplotlib.pyplot as plt\n",
    "import statistics\n",
    "%matplotlib inline\n",
    "import warnings\n",
    "warnings.filterwarnings('ignore')\n",
    "\n",
    "random.seed(9)\n",
    "studentCount = 1000\n",
    "\n",
    "class School():\n",
    "\tdef __init__(self):\n",
    "\t\tself.students = pd.DataFrame(data=[],columns=['Grade','Grade Average'])\n",
    "\t\tself.size = self.students.shape[0] #row count\n",
    "\t\treturn\n",
    "\n",
    "\tdef addStudent(self,student):\n",
    "\t\tself.students = self.students.append(pd.Series([student.grade,student.average],index=self.students.columns.tolist(),name=student.name))\n",
    "\t\tself.size = self.students.shape[0] #row count\n",
    "\t\treturn\n",
    "\n",
    "\tdef calcAverage(self):\n",
    "\t\tif self.size > 0:\n",
    "\t\t\tself.stats = self.students.groupby(['Grade']).agg({'Grade Average':[statistics.mean,statistics.median,min,max]})\n",
    "\t\t\tself.stats.columns = self.stats.columns.droplevel(0)\n",
    "\t\t\tself.stats = pd.merge(self.stats,self.students.reset_index()[['Grade Average','index']],left_on='min',right_on='Grade Average',how='left')\n",
    "\t\t\tself.stats = pd.merge(self.stats,self.students.reset_index()[['Grade Average','index']],left_on='max',right_on='Grade Average',how='left')\n",
    "\t\t\tself.stats = self.stats[['mean','median','min','max','index_x','index_y']]\n",
    "\t\t\tself.stats.rename(columns={'index_x':'classclown','index_y':'valedictorian'},inplace=True)\n",
    "\t\t\tself.stats = self.stats.transpose().rename(columns={0:'Value'})\n",
    "\t\telse:\n",
    "\t\t\tself.stats = pd.DataFrame(data=[],columns='Value')\n",
    "\t\treturn\n",
    "\n",
    "class Student():\n",
    "\tdef __init__(self,name,age,grade):\n",
    "\t\tself.name = name\n",
    "\t\tself.age = age\n",
    "\t\tself.grade = grade\n",
    "\t\tself.scores = []\n",
    "\t\tself.average = 0\n",
    "\t\tself.updateAverage()\n",
    "\t\treturn\n",
    "\n",
    "\tdef addGrade(self,grade,weight):\n",
    "\t\tself.scores.append((grade,weight))\n",
    "\t\tself.updateAverage()\n",
    "\t\treturn\n",
    "\n",
    "\tdef updateAverage(self):\n",
    "\t\tif len(self.scores) > 0:\n",
    "\t\t\tself.average = round(sum([x*y for (x,y) in self.scores])/sum([y for (x,y) in self.scores]),2)\n",
    "\t\telse:\n",
    "\t\t\tself.average = -1\n",
    "\t\treturn\n",
    "\n",
    "students = {}\n",
    "studentNames = ['Sally','Joe','Bill','Pete','Aaron','Diana','Camilla']\n",
    "lastNames = ['Bo','West','Cook','Bauer','Rogan','Stu','Oak']\n",
    "gradeWeights = [random.randrange(1,5) for x in range(0,10)]\n",
    "\n",
    "grade1 = School()\n",
    "\n",
    "for i in range(0,studentCount):\n",
    "\tstudents[i] = Student(random.choice(studentNames)+\" \"+random.choice(lastNames),13,1)\n",
    "\tfor j in range(0,10):\n",
    "\t\tstudents[i].addGrade(random.randrange(0,101),gradeWeights[j])\n",
    "\tgrade1.addStudent(students[i])\n",
    "\n",
    "grade1.students.sort_values(by='Grade Average',inplace=True,ascending=False)\n",
    "grade1.calcAverage()\n",
    "#grade1.calcMedian()\n",
    "#print(grade1.students)\n",
    "print(\"\\nClass stats:\\n\",grade1.stats)\n",
    "#print(\"\\nClass median: %s\"%grade1.median)\n",
    "#print(\"\\nValedictorian: %s\"%grade1.valedictorian)\n",
    "#print(\"\\nClass clown: %s\"%grade1.classclown)"
   ]
  },
  {
   "cell_type": "code",
   "execution_count": 2,
   "metadata": {},
   "outputs": [
    {
     "data": {
      "text/plain": [
       "49.15"
      ]
     },
     "execution_count": 2,
     "metadata": {},
     "output_type": "execute_result"
    }
   ],
   "source": [
    "statistics.median(grade1.students['Grade Average'].tolist())"
   ]
  },
  {
   "cell_type": "code",
   "execution_count": 3,
   "metadata": {},
   "outputs": [
    {
     "data": {
      "text/plain": [
       "<matplotlib.collections.PathCollection at 0x13c1f590>"
      ]
     },
     "execution_count": 3,
     "metadata": {},
     "output_type": "execute_result"
    },
    {
     "data": {
      "image/png": "[encoded data removed]",
      "text/plain": [
       "<Figure size 432x288 with 1 Axes>"
      ]
     },
     "metadata": {},
     "output_type": "display_data"
    }
   ],
   "source": [
    "gradesValues = grade1.students['Grade Average'].values\n",
    "ids = np.array(list(range(0,grade1.size)))\n",
    "\n",
    "plt.scatter(ids,gradesValues)"
   ]
  },
  {
   "cell_type": "code",
   "execution_count": 4,
   "metadata": {},
   "outputs": [],
   "source": [
    "grade1.students['Grade Truncated'] = grade1.students['Grade Average'].round(0)"
   ]
  },
  {
   "cell_type": "code",
   "execution_count": 5,
   "metadata": {},
   "outputs": [],
   "source": [
    "distribByGrade = grade1.students.groupby(['Grade Truncated']).agg({'Grade':'count'})"
   ]
  },
  {
   "cell_type": "code",
   "execution_count": 6,
   "metadata": {},
   "outputs": [],
   "source": [
    "distribByGrade.reset_index(drop=False,inplace=True)\n",
    "#distribByGrade"
   ]
  },
  {
   "cell_type": "code",
   "execution_count": 7,
   "metadata": {},
   "outputs": [
    {
     "data": {
      "text/plain": [
       "<matplotlib.collections.PathCollection at 0x15f181d0>"
      ]
     },
     "execution_count": 7,
     "metadata": {},
     "output_type": "execute_result"
    },
    {
     "data": {
      "image/png": "[encoded data removed]",
      "text/plain": [
       "<Figure size 432x288 with 1 Axes>"
      ]
     },
     "metadata": {},
     "output_type": "display_data"
    }
   ],
   "source": [
    "distribValues = distribByGrade.values\n",
    "\n",
    "plt.scatter(distribValues[:,0],distribValues[:,1],s=30)"
   ]
  },
  {
   "cell_type": "code",
   "execution_count": 8,
   "metadata": {},
   "outputs": [
    {
     "data": {
      "text/plain": [
       "<matplotlib.axes._subplots.AxesSubplot at 0x177f9e50>"
      ]
     },
     "execution_count": 8,
     "metadata": {},
     "output_type": "execute_result"
    },
    {
     "data": {
      "image/png": "[encoded data removed]",
      "text/plain": [
       "<Figure size 432x288 with 1 Axes>"
      ]
     },
     "metadata": {},
     "output_type": "display_data"
    }
   ],
   "source": [
    "import seaborn as sns\n",
    "\n",
    "sns.distplot(grade1.students['Grade Truncated'],color='b')\n"
   ]
  },
  {
   "cell_type": "code",
   "execution_count": 9,
   "metadata": {},
   "outputs": [],
   "source": []
  },
  {
   "cell_type": "code",
   "execution_count": 20,
   "metadata": {},
   "outputs": [],
   "source": []
  },
  {
   "cell_type": "code",
   "execution_count": null,
   "metadata": {},
   "outputs": [],
   "source": []
  }
 ],
 "metadata": {
  "kernelspec": {
   "display_name": "Python 3",
   "language": "python",
   "name": "python3"
  },
  "language_info": {
   "codemirror_mode": {
    "name": "ipython",
    "version": 3
   },
   "file_extension": ".py",
   "mimetype": "text/x-python",
   "name": "python",
   "nbconvert_exporter": "python",
   "pygments_lexer": "ipython3",
   "version": "3.6.4"
  }
 },
 "nbformat": 4,
 "nbformat_minor": 2
}
